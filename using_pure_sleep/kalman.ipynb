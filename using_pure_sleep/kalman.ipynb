{
 "cells": [
  {
   "cell_type": "code",
   "execution_count": 4,
   "metadata": {},
   "outputs": [],
   "source": [
    "# imports\n",
    "\n",
    "from filterpy.kalman import KalmanFilter\n",
    "from filterpy.kalman import predict\n",
    "from filterpy.kalman import KalmanFilter\n",
    "from filterpy.common import Q_discrete_white_noise\n",
    "\n",
    "import numpy as np \n",
    "import csv \n",
    "import seaborn as sns\n",
    "import pandas as pd "
   ]
  },
  {
   "cell_type": "code",
   "execution_count": null,
   "metadata": {},
   "outputs": [],
   "source": [
    "# load data"
   ]
  },
  {
   "cell_type": "code",
   "execution_count": null,
   "metadata": {},
   "outputs": [],
   "source": [
    "# Create zs matrix: (n_steps, 3) where each row corresponds to measurements at one time step\n",
    "\n",
    "zs = np.column_stack((basal_rate_data, heart_rate_data, respiratory_data))"
   ]
  },
  {
   "cell_type": "code",
   "execution_count": null,
   "metadata": {},
   "outputs": [],
   "source": [
    "# Initial P matrix (state covariance matrix)\n",
    "\n",
    "#creation of P matrix values \n",
    "unified_array = np.array([processed_basal_rate[650:], processed_heart_rate[650:], processed_respiratory[650:]])\n",
    "P_threebythree = np.cov(unified_array)\n",
    "\n",
    "final_P = np.array([\n",
    "    [7, 0,            0,            0         ],\n",
    "    [0, 98.18160966, -34.72900601, -1.22780453],\n",
    "    [0, -34.72900601, 470.32652132, 3.1424907],\n",
    "    [0, -1.22780453,  3.1424907,    3.33721444],\n",
    "])"
   ]
  },
  {
   "cell_type": "code",
   "execution_count": null,
   "metadata": {},
   "outputs": [],
   "source": [
    "# Initial state X\n",
    "\n",
    "X = np.array([\n",
    "    [97],\n",
    "    [np.mean(processed_basal_rate[650:])],\n",
    "    [np.mean(processed_heart_rate[650:])],\n",
    "    [np.mean(processed_respiratory[650:])],\n",
    "])"
   ]
  },
  {
   "cell_type": "code",
   "execution_count": null,
   "metadata": {},
   "outputs": [],
   "source": [
    "# Process model matrix F\n",
    "\n",
    "dt = 1  # 1 second time step\n",
    "F = np.array([\n",
    "    [1, 0, dt, 0.5*dt**2],\n",
    "    [0, 1, 0, dt],\n",
    "    [0, 0, 1, 0],\n",
    "    [0, 0, 0, 1],\n",
    "])"
   ]
  },
  {
   "cell_type": "code",
   "execution_count": null,
   "metadata": {},
   "outputs": [],
   "source": [
    "# Measurement noise covariance matrix R\n",
    "\n",
    "R = np.array([\n",
    "    [1, 0, 0],\n",
    "    [0, 1, 0],\n",
    "    [0, 0, 1]\n",
    "])"
   ]
  },
  {
   "cell_type": "code",
   "execution_count": null,
   "metadata": {},
   "outputs": [],
   "source": [
    "# Two options for Q (process noise covariance)\n",
    "\n",
    "Q_filterpy = Q_discrete_white_noise(dim=4, dt=1., var=7)\n",
    "Q_manual = np.array([\n",
    "    [0.7, 0, 0, 0],\n",
    "    [0, 9.818160966, 0, 0],\n",
    "    [0, 0, 47.032652132, 0],\n",
    "    [0, 0, 0, 0.333721444],\n",
    "])"
   ]
  },
  {
   "cell_type": "code",
   "execution_count": null,
   "metadata": {},
   "outputs": [],
   "source": [
    "# Measurement matrix H (maps state to measurement)\n",
    "\n",
    "H = np.array([\n",
    "    [0, 1, 0, 0],  # basal rate mapping\n",
    "    [0, 0, 1, 0],  # heart rate mapping\n",
    "    [0, 0, 0, 1]   # respiratory rate mapping\n",
    "])"
   ]
  },
  {
   "cell_type": "code",
   "execution_count": 5,
   "metadata": {},
   "outputs": [
    {
     "ename": "ValueError",
     "evalue": "dim must be between 2 and 4",
     "output_type": "error",
     "traceback": [
      "\u001b[0;31m---------------------------------------------------------------------------\u001b[0m",
      "\u001b[0;31mValueError\u001b[0m                                Traceback (most recent call last)",
      "Cell \u001b[0;32mIn[5], line 9\u001b[0m\n\u001b[1;32m      7\u001b[0m kf\u001b[38;5;241m.\u001b[39mP \u001b[38;5;241m=\u001b[39m np\u001b[38;5;241m.\u001b[39marray([\u001b[38;5;241m10.\u001b[39m,])\n\u001b[1;32m      8\u001b[0m kf\u001b[38;5;241m.\u001b[39mR \u001b[38;5;241m=\u001b[39m np\u001b[38;5;241m.\u001b[39marray([[\u001b[38;5;241m1.\u001b[39m]])\n\u001b[0;32m----> 9\u001b[0m kf\u001b[38;5;241m.\u001b[39mQ \u001b[38;5;241m=\u001b[39m \u001b[43mQ_discrete_white_noise\u001b[49m\u001b[43m(\u001b[49m\u001b[43mdim\u001b[49m\u001b[38;5;241;43m=\u001b[39;49m\u001b[38;5;241;43m1\u001b[39;49m\u001b[43m,\u001b[49m\u001b[43m \u001b[49m\u001b[43mdt\u001b[49m\u001b[38;5;241;43m=\u001b[39;49m\u001b[38;5;241;43m0.1\u001b[39;49m\u001b[43m,\u001b[49m\u001b[43m \u001b[49m\u001b[43mvar\u001b[49m\u001b[38;5;241;43m=\u001b[39;49m\u001b[38;5;241;43m0.13\u001b[39;49m\u001b[43m)\u001b[49m\n",
      "File \u001b[0;32m~/opt/anaconda3/envs/noah_venv/lib/python3.10/site-packages/filterpy/common/discretization.py:128\u001b[0m, in \u001b[0;36mQ_discrete_white_noise\u001b[0;34m(dim, dt, var, block_size, order_by_dim)\u001b[0m\n\u001b[1;32m     71\u001b[0m \u001b[38;5;250m\u001b[39m\u001b[38;5;124;03m\"\"\"\u001b[39;00m\n\u001b[1;32m     72\u001b[0m \u001b[38;5;124;03mReturns the Q matrix for the Discrete Constant White Noise\u001b[39;00m\n\u001b[1;32m     73\u001b[0m \u001b[38;5;124;03mModel. dim may be either 2, 3, or 4 dt is the time step, and sigma\u001b[39;00m\n\u001b[0;32m   (...)\u001b[0m\n\u001b[1;32m    124\u001b[0m \u001b[38;5;124;03mJohn Wiley & Sons, 2001. Page 274.\u001b[39;00m\n\u001b[1;32m    125\u001b[0m \u001b[38;5;124;03m\"\"\"\u001b[39;00m\n\u001b[1;32m    127\u001b[0m \u001b[38;5;28;01mif\u001b[39;00m \u001b[38;5;129;01mnot\u001b[39;00m (dim \u001b[38;5;241m==\u001b[39m \u001b[38;5;241m2\u001b[39m \u001b[38;5;129;01mor\u001b[39;00m dim \u001b[38;5;241m==\u001b[39m \u001b[38;5;241m3\u001b[39m \u001b[38;5;129;01mor\u001b[39;00m dim \u001b[38;5;241m==\u001b[39m \u001b[38;5;241m4\u001b[39m):\n\u001b[0;32m--> 128\u001b[0m     \u001b[38;5;28;01mraise\u001b[39;00m \u001b[38;5;167;01mValueError\u001b[39;00m(\u001b[38;5;124m\"\u001b[39m\u001b[38;5;124mdim must be between 2 and 4\u001b[39m\u001b[38;5;124m\"\u001b[39m)\n\u001b[1;32m    130\u001b[0m \u001b[38;5;28;01mif\u001b[39;00m dim \u001b[38;5;241m==\u001b[39m \u001b[38;5;241m2\u001b[39m:\n\u001b[1;32m    131\u001b[0m     Q \u001b[38;5;241m=\u001b[39m [[\u001b[38;5;241m.25\u001b[39m\u001b[38;5;241m*\u001b[39mdt\u001b[38;5;241m*\u001b[39m\u001b[38;5;241m*\u001b[39m\u001b[38;5;241m4\u001b[39m, \u001b[38;5;241m.5\u001b[39m\u001b[38;5;241m*\u001b[39mdt\u001b[38;5;241m*\u001b[39m\u001b[38;5;241m*\u001b[39m\u001b[38;5;241m3\u001b[39m],\n\u001b[1;32m    132\u001b[0m          [ \u001b[38;5;241m.5\u001b[39m\u001b[38;5;241m*\u001b[39mdt\u001b[38;5;241m*\u001b[39m\u001b[38;5;241m*\u001b[39m\u001b[38;5;241m3\u001b[39m,    dt\u001b[38;5;241m*\u001b[39m\u001b[38;5;241m*\u001b[39m\u001b[38;5;241m2\u001b[39m]]\n",
      "\u001b[0;31mValueError\u001b[0m: dim must be between 2 and 4"
     ]
    }
   ],
   "source": [
    "# initialize\n",
    "\n",
    "def initialize_kalman_filter(X, P, R, Q, F, H):\n",
    "    kf = KalmanFilter(dim_x=4, dim_z=3)\n",
    "    kf.x = X\n",
    "    kf.P = P\n",
    "    kf.R = R\n",
    "    kf.Q = Q\n",
    "    kf.F = F\n",
    "    kf.H = H\n",
    "    return kf"
   ]
  },
  {
   "cell_type": "code",
   "execution_count": null,
   "metadata": {},
   "outputs": [],
   "source": [
    "# use filter\n",
    "\n",
    "interpolated = list()\n",
    "dates = list()\n",
    "\n",
    "with open(\"interpolated_sleep_analysis.csv\", 'r') as f:\n",
    "    reader = csv.reader(f)\n",
    "    next(reader)\n",
    "    for row in reader:\n",
    "        interpolated.append(float(row[1]))\n",
    "        dates.append(pd.to_datetime(row[0]))\n",
    "\n",
    "S = iter(interpolated)\n",
    "\n",
    "xs = list()\n",
    "xxs = list()\n",
    "z = next(S, None)\n",
    "while z is not None:\n",
    "\n",
    "    kf.predict()\n",
    "    kf.update(z)\n",
    "\n",
    "    xs.append(kf.x_post[0])\n",
    "    xxs.append(kf.x_post[1])\n",
    "\n",
    "    z = next(S, None)"
   ]
  },
  {
   "cell_type": "code",
   "execution_count": null,
   "metadata": {},
   "outputs": [],
   "source": [
    "# plot\n",
    "\n",
    "sns.lineplot(\n",
    "    x=range(len(xs)), y=xs\n",
    ")"
   ]
  }
 ],
 "metadata": {
  "kernelspec": {
   "display_name": "noah_venv",
   "language": "python",
   "name": "python3"
  },
  "language_info": {
   "codemirror_mode": {
    "name": "ipython",
    "version": 3
   },
   "file_extension": ".py",
   "mimetype": "text/x-python",
   "name": "python",
   "nbconvert_exporter": "python",
   "pygments_lexer": "ipython3",
   "version": "3.10.15"
  }
 },
 "nbformat": 4,
 "nbformat_minor": 2
}
