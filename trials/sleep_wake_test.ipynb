{
 "cells": [
  {
   "cell_type": "code",
   "execution_count": 57,
   "metadata": {},
   "outputs": [],
   "source": [
    "# imports\n",
    "\n",
    "import numpy as np\n",
    "import pandas as pd\n",
    "import seaborn as sns\n",
    "import matplotlib.pyplot as plt\n",
    "\n",
    "import csv\n",
    "from datetime import timedelta"
   ]
  },
  {
   "cell_type": "code",
   "execution_count": 52,
   "metadata": {},
   "outputs": [],
   "source": [
    "# new file\n",
    "\n",
    "newf = open(\"cleaned_sleep_analysis.csv\", 'w')\n",
    "\n",
    "with open(\"../data/HKCategoryTypeIdentifierSleepAnalysis.csv\", 'r') as f:\n",
    "    reader = csv.reader(f)\n",
    "    for row in reader:\n",
    "        newf.write(row[2] + \", \" + row[3] + \", \" + row[5])\n",
    "        newf.write(\"\\n\")\n",
    "\n",
    "newf.close()"
   ]
  },
  {
   "cell_type": "code",
   "execution_count": 53,
   "metadata": {},
   "outputs": [],
   "source": [
    "# clean\n",
    "\n",
    "temp = list()\n",
    "newf = open(\"cleaned_sleep_analysis.csv\", 'r')\n",
    "reader = csv.reader(newf)\n",
    "\n",
    "for row in reader:\n",
    "    temp.append([\n",
    "        row[0].lstrip(), \n",
    "        row[1].lstrip(), \n",
    "        row[2].lstrip().removeprefix(\"HKCategoryValueSleepAnalysis\"),\n",
    "        \"1\" if \"Asleep\" in row[2].lstrip().removeprefix(\"HKCategoryValueSleepAnalysis\") else \"0\",\n",
    "    ])\n",
    "\n",
    "newf.close()\n",
    "newf = open(\"cleaned_sleep_analysis.csv\", 'w')\n",
    "for row in temp:\n",
    "    newf.write(\",\".join(row))\n",
    "    newf.write(\"\\n\")"
   ]
  },
  {
   "cell_type": "code",
   "execution_count": null,
   "metadata": {},
   "outputs": [],
   "source": [
    "# plot\n",
    "\n",
    "# couldn't import this from file bc jupyter is stupid\n",
    "def aggregate_data_by_interval(file, interval):\n",
    "    # Convert 'start' to datetime\n",
    "    df = pd.read_csv(file)\n",
    "    df['start'] = pd.to_datetime(df['start'], errors='coerce')\n",
    "\n",
    "    # Drop rows where 'start' could not be converted to datetime\n",
    "    df = df.dropna(subset=['start'])\n",
    "    \n",
    "    # Sort by 'start' time to ensure chronological order\n",
    "    df = df.sort_values(by='start')\n",
    "\n",
    "    # Set the start time as the base reference\n",
    "    start_time = df['start'].min()\n",
    "\n",
    "    # Create a new time index based on the given interval\n",
    "    if interval == 'minutes':\n",
    "        time_delta = timedelta(minutes=1)\n",
    "    elif interval == 'hours':\n",
    "        time_delta = timedelta(hours=1)\n",
    "    elif interval == 'days':\n",
    "        time_delta = timedelta(days=1)\n",
    "    else:\n",
    "        raise ValueError(\"Interval must be 'minutes', 'hours', or 'days'\")\n",
    "\n",
    "    # Create an empty list to store results\n",
    "    results = []\n",
    "    time_counter = 0\n",
    "    current_time = start_time\n",
    "\n",
    "    while current_time <= df['start'].max():\n",
    "        # Filter the data for the current interval\n",
    "        interval_data = df[(df['start'] >= current_time) & (df['start'] < current_time + time_delta)]\n",
    "\n",
    "        if not interval_data.empty:\n",
    "            # Calculate the mean of 'value' for the interval\n",
    "            mean_value = interval_data['value'].mean()\n",
    "\n",
    "            # Add the aggregated result to the results list\n",
    "            results.append({\n",
    "                # 'source': interval_data['source'].iloc[0],  # Take the source from the first row\n",
    "                'time': time_counter,\n",
    "                'value': mean_value,\n",
    "                # 'unit': interval_data['unit'].iloc[0],  # Take the unit from the first row\n",
    "            })\n",
    "\n",
    "        # Move to the next interval\n",
    "        current_time += time_delta\n",
    "        time_counter += 1\n",
    "\n",
    "    # Convert results into a DataFrame\n",
    "    result_df = pd.DataFrame(results)\n",
    "    return result_df\n",
    "\n",
    "aggregated_df = aggregate_data_by_interval('cleaned_sleep_analysis.csv', 'hours')\n",
    "aggregated_df.plot(kind='line', x='time', y='value')\n",
    "\n",
    "aggregated_df.to_csv('maybe_cleaned_sleep_analysis.csv', index=False)"
   ]
  },
  {
   "cell_type": "code",
   "execution_count": null,
   "metadata": {},
   "outputs": [],
   "source": [
    "# more clean\n",
    "\n",
    "df = pd.read_csv(\"maybe_cleaned_sleep_analysis.csv\")\n",
    "df['time'] = pd.to_timedelta(df['time']*3600*10**9, errors='coerce') + pd.to_datetime('2023-07-07 23:30:52 -0400')\n",
    "\n",
    "common_time = pd.date_range(start=df['time'].iloc[0], end=df['time'].iloc[-1], freq='h')\n",
    "df = df.set_index('time')\n",
    "interpolated = df.reindex(common_time, method='nearest').interpolate()\n",
    "\n",
    "interpolated.plot(kind='line', y='value')\n",
    "interpolated.to_csv('interpolated_sleep_analysis.csv', index=True)"
   ]
  },
  {
   "cell_type": "code",
   "execution_count": 122,
   "metadata": {},
   "outputs": [],
   "source": [
    "# filter \n",
    "\n"
   ]
  }
 ],
 "metadata": {
  "kernelspec": {
   "display_name": "noah_venv",
   "language": "python",
   "name": "python3"
  },
  "language_info": {
   "codemirror_mode": {
    "name": "ipython",
    "version": 3
   },
   "file_extension": ".py",
   "mimetype": "text/x-python",
   "name": "python",
   "nbconvert_exporter": "python",
   "pygments_lexer": "ipython3",
   "version": "3.10.15"
  }
 },
 "nbformat": 4,
 "nbformat_minor": 2
}
