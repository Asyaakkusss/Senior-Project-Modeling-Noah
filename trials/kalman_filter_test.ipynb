{
 "cells": [
  {
   "cell_type": "code",
   "execution_count": 32,
   "metadata": {},
   "outputs": [],
   "source": [
    "# imports\n",
    "\n",
    "from filterpy.kalman import KalmanFilter\n",
    "from filterpy.kalman import predict\n",
    "from filterpy.kalman import KalmanFilter\n",
    "from filterpy.common import Q_discrete_white_noise\n",
    "\n",
    "import numpy as np \n",
    "import csv \n",
    "import matplotlib.pyplot as plt \n",
    "import pandas as pd "
   ]
  },
  {
   "cell_type": "code",
   "execution_count": 16,
   "metadata": {},
   "outputs": [],
   "source": [
    "# data\n",
    "\n",
    "fpath = \"maybe_cleaned_sleep_analysis.csv\"\n",
    "df = pd.read_csv(fpath)\n",
    "\n",
    "sleep_data = [row for row in df[\"value\"]]\n",
    "S = np.array(sleep_data)"
   ]
  },
  {
   "cell_type": "code",
   "execution_count": null,
   "metadata": {},
   "outputs": [],
   "source": [
    "# interpolate"
   ]
  },
  {
   "cell_type": "code",
   "execution_count": 35,
   "metadata": {},
   "outputs": [],
   "source": [
    "# filter\n",
    "\n",
    "kf = KalmanFilter(dim_x=2, dim_z=1)\n",
    "kf.x = np.array([2., 0.])\n",
    "kf.F = np.array([[1.,1.],\n",
    "                 [0.,1.]])\n",
    "kf.H = np.array([[1.,0.]])\n",
    "kf.P = np.array([[1000.,    0.],\n",
    "                 [   0., 1000.]])\n",
    "kf.R = np.array([[5.]])\n",
    "kf.Q = Q_discrete_white_noise(dim=2, dt=0.1, var=0.13)"
   ]
  },
  {
   "cell_type": "code",
   "execution_count": 36,
   "metadata": {},
   "outputs": [],
   "source": [
    "# use filter\n",
    "\n",
    "interpolated = list()\n",
    "dates = list()\n",
    "\n",
    "with open(\"interpolated_sleep_analysis.csv\", 'r') as f:\n",
    "    reader = csv.reader(f)\n",
    "    next(reader)\n",
    "    for row in reader:\n",
    "        interpolated.append(float(row[1]))\n",
    "        dates.append(pd.to_datetime(row[0]))\n",
    "\n",
    "S = iter(interpolated)\n",
    "\n",
    "z = next(S, None)\n",
    "while z is not None:\n",
    "\n",
    "    kf.predict()\n",
    "    kf.update(z)\n",
    "\n",
    "    z = next(S, None)"
   ]
  },
  {
   "cell_type": "code",
   "execution_count": 39,
   "metadata": {},
   "outputs": [
    {
     "data": {
      "text/plain": [
       "array([0.23135223, 0.01984274])"
      ]
     },
     "execution_count": 39,
     "metadata": {},
     "output_type": "execute_result"
    }
   ],
   "source": [
    "kf.x"
   ]
  },
  {
   "cell_type": "code",
   "execution_count": 40,
   "metadata": {},
   "outputs": [
    {
     "data": {
      "text/plain": [
       "array([0.23135223, 0.01984274])"
      ]
     },
     "execution_count": 40,
     "metadata": {},
     "output_type": "execute_result"
    }
   ],
   "source": [
    "kf.x_post"
   ]
  },
  {
   "cell_type": "code",
   "execution_count": 41,
   "metadata": {},
   "outputs": [
    {
     "data": {
      "text/plain": [
       "array([0.11943218, 0.00981174])"
      ]
     },
     "execution_count": 41,
     "metadata": {},
     "output_type": "execute_result"
    }
   ],
   "source": [
    "kf.x_prior"
   ]
  }
 ],
 "metadata": {
  "kernelspec": {
   "display_name": "noah_venv",
   "language": "python",
   "name": "python3"
  },
  "language_info": {
   "codemirror_mode": {
    "name": "ipython",
    "version": 3
   },
   "file_extension": ".py",
   "mimetype": "text/x-python",
   "name": "python",
   "nbconvert_exporter": "python",
   "pygments_lexer": "ipython3",
   "version": "3.10.15"
  }
 },
 "nbformat": 4,
 "nbformat_minor": 2
}
