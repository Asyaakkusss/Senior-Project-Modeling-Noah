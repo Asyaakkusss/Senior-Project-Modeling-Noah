{
 "cells": [
  {
   "cell_type": "code",
   "execution_count": 48,
   "metadata": {},
   "outputs": [],
   "source": [
    "# imports\n",
    "\n",
    "import numpy as np \n",
    "import os\n",
    "import csv \n",
    "\n",
    "import pandas as pd \n",
    "import matplotlib.pyplot as plt \n",
    "\n",
    "from filterpy.kalman import predict\n",
    "from filterpy.common import Q_discrete_white_noise\n",
    "from filterpy.kalman import KalmanFilter\n",
    "\n",
    "from openpyxl import load_workbook"
   ]
  },
  {
   "cell_type": "code",
   "execution_count": 49,
   "metadata": {},
   "outputs": [],
   "source": [
    "# settings\n",
    "\n",
    "start_time = pd.Timestamp('2024-09-17 00:00:00-0400')\n",
    "end_time = pd.Timestamp('2024-09-18 00:00:00-0400')\n",
    "\n",
    "#data_dir = \"../../data\"\n",
    "#home_dir = \"\"\n",
    "data_dir = \"/Users/monugoel/Desktop/CSDS_395/data/\"\n",
    "home_dir = \"/Users/monugoel/Desktop/CSDS_395/\""
   ]
  },
  {
   "cell_type": "code",
   "execution_count": 50,
   "metadata": {},
   "outputs": [
    {
     "name": "stderr",
     "output_type": "stream",
     "text": [
      "/var/folders/qg/60cswt1n6kv3d9rv9xq0q42w0000gn/T/ipykernel_25014/663988184.py:11: FutureWarning: 'T' is deprecated and will be removed in a future version, please use 'min' instead.\n",
      "  common_time = pd.date_range(start=start_time, end=end_time, freq='25T')\n"
     ]
    }
   ],
   "source": [
    "# extract energy burned data\n",
    "\n",
    "# energy burned inverse to hunger\n",
    "# maybe energy burned should be offset\n",
    "\n",
    "df = pd.read_csv(os.path.join(data_dir, \"PhysicalEffort.csv\"))\n",
    "df['start'] = pd.to_datetime(df['start'])\n",
    "df.set_index('start', inplace=True)\n",
    "df.sort_index(inplace=True)\n",
    "\n",
    "common_time = pd.date_range(start=start_time, end=end_time, freq='25T')\n",
    "effort_aligned = df['value'].reindex(common_time, method='nearest')\n",
    "# effort_interpolated = df.interpolate(method = 'linear')\n",
    "aligned_df = pd.DataFrame({\n",
    "    'value': effort_aligned\n",
    "})\n",
    "\n",
    "processed_effort = aligned_df.to_numpy().flatten()\n",
    "\n",
    "# for i, row in aligned_df.iterrows(): print(f\"time: {i}, value: {row['value']}\")"
   ]
  },
  {
   "cell_type": "code",
   "execution_count": 51,
   "metadata": {},
   "outputs": [
    {
     "name": "stderr",
     "output_type": "stream",
     "text": [
      "/var/folders/qg/60cswt1n6kv3d9rv9xq0q42w0000gn/T/ipykernel_25014/2393657159.py:11: FutureWarning: 'T' is deprecated and will be removed in a future version, please use 'min' instead.\n",
      "  common_time = pd.date_range(start=start_time, end=end_time, freq='25T')\n"
     ]
    }
   ],
   "source": [
    "# extract physical effort data\n",
    "\n",
    "# physical effort should be inverse to hunger (not necessarily)\n",
    "\n",
    "df = pd.read_csv(os.path.join(data_dir, \"BasalEnergyBurned.csv\"))\n",
    "df['start'] = pd.to_datetime(df['start'])\n",
    "df.set_index('start', inplace=True)\n",
    "df.sort_index(inplace=True)\n",
    "df = df[~df.index.duplicated(keep='first')]\n",
    "\n",
    "common_time = pd.date_range(start=start_time, end=end_time, freq='25T')\n",
    "energy_aligned = df['value'].reindex(common_time, method='nearest')\n",
    "aligned_df = pd.DataFrame({\n",
    "    'value': energy_aligned\n",
    "})\n",
    "\n",
    "processed_energy = aligned_df.to_numpy().flatten()\n",
    "\n",
    "# for i,row in aligned_df.iterrows(): print(f\"time: {i}, value: {row['value']}\")"
   ]
  },
  {
   "cell_type": "code",
   "execution_count": 52,
   "metadata": {},
   "outputs": [],
   "source": [
    "# extract hunger times data\n",
    "\n"
   ]
  },
  {
   "cell_type": "code",
   "execution_count": 53,
   "metadata": {},
   "outputs": [],
   "source": [
    "# P matrix\n",
    "\n",
    "#P = np.cov(np.array([processed_effort, processed_energy, ]))\n",
    "P = np.array([[1]])"
   ]
  },
  {
   "cell_type": "code",
   "execution_count": 54,
   "metadata": {},
   "outputs": [],
   "source": [
    "# zs matrix\n",
    "\n",
    "n_steps = len(processed_energy)\n",
    "zs = np.column_stack((processed_effort, processed_energy, ))"
   ]
  },
  {
   "cell_type": "code",
   "execution_count": 55,
   "metadata": {},
   "outputs": [
    {
     "name": "stdout",
     "output_type": "stream",
     "text": [
      "(1, 1)\n"
     ]
    }
   ],
   "source": [
    "# initial state X\n",
    "\n",
    "X = np.array([[0]])\n",
    "print(X.shape)"
   ]
  },
  {
   "cell_type": "code",
   "execution_count": 56,
   "metadata": {},
   "outputs": [],
   "source": [
    "# process model matrix F\n",
    "\n",
    "F = np.array([\n",
    "[1]\n",
    "])"
   ]
  },
  {
   "cell_type": "code",
   "execution_count": 57,
   "metadata": {},
   "outputs": [
    {
     "data": {
      "text/plain": [
       "array([[  2.7141833 ,  -7.43308373],\n",
       "       [ -7.43308373, 254.72669822]])"
      ]
     },
     "execution_count": 57,
     "metadata": {},
     "output_type": "execute_result"
    }
   ],
   "source": [
    "# measurement noise covariance matrix R\n",
    "\n",
    "# from SleepCycle.data_processing import calc_R\n",
    "\n",
    "# R = np.array([\n",
    "#     [1, 0],\n",
    "#     [0, 1]\n",
    "# ])\n",
    "\n",
    "def calc_R(arrays):     \n",
    "    unified_array = np.array(arrays)\n",
    "    R = np.cov(unified_array)\n",
    "    return R \n",
    "R = calc_R([processed_effort, processed_energy, ])\n",
    "R"
   ]
  },
  {
   "cell_type": "code",
   "execution_count": 58,
   "metadata": {},
   "outputs": [],
   "source": [
    "# process noise covariance matrix Q\n",
    "\n",
    "#Q = Q_discrete_white_noise(dim=2, dt=1., var=1.0)\n",
    "\n",
    "Q = np.array([[1]])"
   ]
  },
  {
   "cell_type": "code",
   "execution_count": 59,
   "metadata": {},
   "outputs": [],
   "source": [
    "# measurement matrix H\n",
    "\n",
    "H = np.array([\n",
    "    [1],  # energy mapping\n",
    "    [1],  # effort mapping\n",
    "])"
   ]
  },
  {
   "cell_type": "code",
   "execution_count": 60,
   "metadata": {},
   "outputs": [],
   "source": [
    "# kalman filter initialization\n",
    "\n",
    "kf = KalmanFilter(dim_x=1, dim_z=2)\n",
    "kf.x = X\n",
    "kf.P = P\n",
    "kf.R = R\n",
    "kf.Q = Q\n",
    "kf.F = F\n",
    "kf.H = H"
   ]
  },
  {
   "cell_type": "code",
   "execution_count": 61,
   "metadata": {},
   "outputs": [],
   "source": [
    "# Run the Kalman filter with your data\n",
    "    \n",
    "# Arrays to store state estimates and covariances\n",
    "xs, cov = [], []\n",
    "xs_rot = []\n",
    "residuals = []\n",
    "\n",
    "for i in range(n_steps):\n",
    "    #kf_rot.F = rotation_matrix_4d_xy_xw(theta_xy, theta_xw)\n",
    "\n",
    "    kf.predict()  # Predict the next state\n",
    "    z = zs[i]     # Get the measurements for this time step\n",
    "    kf.update(z)  # Update with the measurement\n",
    "\n",
    "    xs.append(kf.x)  # Store the state estimate\n",
    "    cov.append(kf.P) # Store the covariance matrix\n",
    "\n",
    "    # Calculate residuals (difference between measurement and prediction)\n",
    "    predicted_measurement = H @ kf.x  # Predicted measurement\n",
    "    residual = z - predicted_measurement\n",
    "    residuals.append(residual)\n",
    "\n",
    "# Convert results to numpy arrays for easy handling\n",
    "xs = np.array(xs)\n",
    "cov = np.array(cov)\n",
    "residuals = np.array(residuals) "
   ]
  },
  {
   "cell_type": "code",
   "execution_count": 62,
   "metadata": {},
   "outputs": [
    {
     "name": "stdout",
     "output_type": "stream",
     "text": [
      "<class 'numpy.ndarray'>\n",
      "(58, 1, 1)\n",
      "(58, 1)\n",
      "(58,)\n",
      "Standard Deviation of Residuals: [1.08191191 1.08191191]\n",
      "Mean Squared Error (MSE): [1.46554451 1.46554451]\n"
     ]
    },
    {
     "data": {
      "image/png": "[encoded data removed]",
      "text/plain": [
       "<Figure size 640x480 with 1 Axes>"
      ]
     },
     "metadata": {},
     "output_type": "display_data"
    }
   ],
   "source": [
    "# evaluation\n",
    "\n",
    "# xs now contains state estimates, including core body temperature estimates over time\n",
    "print(type(xs))\n",
    "print(np.shape(xs))\n",
    "\n",
    "xs_reshaped = xs[:, 0]\n",
    "print(np.shape(xs_reshaped))\n",
    "\n",
    "np.savetxt(os.path.join(home_dir, \"predictions_hunger.csv\"), xs_reshaped, delimiter=\",\")\n",
    "\n",
    "xs_cbt = xs_reshaped[:1440, 0]\n",
    "print(np.shape(xs_cbt))\n",
    "ys_cbt = np.arange(len(xs_cbt))\n",
    "\n",
    "# Calculate Standard Deviation of Residuals and MSE\n",
    "residual_std = np.std(residuals, axis=0)\n",
    "mse = np.mean(residuals**2, axis=0)\n",
    "\n",
    "residual_std_cbt = residual_std[:, 0]  # Extract standard deviation for CBT\n",
    "mse_cbt = mse[:, 0]  # Extract MSE for CBT\n",
    "\n",
    "print(\"Standard Deviation of Residuals:\", residual_std_cbt)\n",
    "print(\"Mean Squared Error (MSE):\", mse_cbt)\n",
    "\n",
    "plt.plot(ys_cbt, xs_cbt, label='Predicted Hunger')\n",
    "plt.title('Predicted Hunger Level')\n",
    "plt.xlabel('Time Steps')\n",
    "plt.ylabel('Hunger Level Estimate')\n",
    "plt.legend()\n",
    "\n",
    "# Plot Residuals\n",
    "\"\"\"\n",
    "plt.subplot(2, 1, 2)  # Second plot in the grid\n",
    "plt.plot(ys_cbt, residuals[:len(ys_cbt), 0], label='Residuals (Hunger)')\n",
    "plt.title('Residuals of Core Body Temperature Over Time')\n",
    "plt.xlabel('Time Steps')\n",
    "plt.ylabel('Residual (Measurement - Prediction)')\n",
    "plt.legend()\n",
    "\n",
    "\n",
    "# Show the final plot with both graphs\n",
    "plt.tight_layout()\n",
    "plt.savefig(os.path.join(home_dir, 'my_plot_kal_hunger_residuals.png'))\n",
    "\"\"\"\n",
    "plt.show()\n",
    "\n"
   ]
  },
  {
   "cell_type": "code",
   "execution_count": null,
   "metadata": {},
   "outputs": [],
   "source": []
  }
 ],
 "metadata": {
  "kernelspec": {
   "display_name": "noah_venv",
   "language": "python",
   "name": "python3"
  },
  "language_info": {
   "codemirror_mode": {
    "name": "ipython",
    "version": 3
   },
   "file_extension": ".py",
   "mimetype": "text/x-python",
   "name": "python",
   "nbconvert_exporter": "python",
   "pygments_lexer": "ipython3",
   "version": "3.9.18"
  }
 },
 "nbformat": 4,
 "nbformat_minor": 2
}
