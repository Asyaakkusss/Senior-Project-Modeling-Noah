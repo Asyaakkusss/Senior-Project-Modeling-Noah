{
 "cells": [
  {
   "cell_type": "code",
   "execution_count": 17,
   "metadata": {},
   "outputs": [],
   "source": [
    "# imports\n",
    "\n",
    "import numpy as np \n",
    "import os\n",
    "import csv \n",
    "\n",
    "import pandas as pd \n",
    "import matplotlib.pyplot as plt \n",
    "\n",
    "from filterpy.kalman import predict\n",
    "from filterpy.common import Q_discrete_white_noise\n",
    "from filterpy.kalman import KalmanFilter\n",
    "\n",
    "from openpyxl import load_workbook"
   ]
  },
  {
   "cell_type": "code",
   "execution_count": 18,
   "metadata": {},
   "outputs": [],
   "source": [
    "# settings\n",
    "\n",
    "start_time = pd.Timestamp('2024-09-17 00:00:00-0400')\n",
    "end_time = pd.Timestamp('2024-09-18 00:00:00-0400')\n",
    "\n",
    "home_dir = \"../../\""
   ]
  },
  {
   "cell_type": "code",
   "execution_count": 19,
   "metadata": {},
   "outputs": [],
   "source": [
    "# extract energy burned data\n",
    "\n",
    "# energy burned inverse to hunger\n",
    "# maybe energy burned should be offset\n",
    "\n",
    "df = pd.read_csv(home_dir + \"PhysicalEffort.csv\")\n",
    "df['start'] = pd.to_datetime(df['start'])\n",
    "df.set_index('start', inplace=True)\n",
    "df.sort_index(inplace=True)\n",
    "\n",
    "common_time = pd.date_range(start=start_time, end=end_time, freq='min')\n",
    "effort_aligned = df['value'].reindex(common_time, method='nearest')\n",
    "# effort_interpolated = df.interpolate(method = 'linear')\n",
    "aligned_df = pd.DataFrame({\n",
    "    'value': effort_aligned\n",
    "})\n",
    "\n",
    "processed_effort = aligned_df.to_numpy().flatten()\n",
    "\n",
    "# for i, row in aligned_df.iterrows(): print(f\"time: {i}, value: {row['value']}\")"
   ]
  },
  {
   "cell_type": "code",
   "execution_count": 20,
   "metadata": {},
   "outputs": [],
   "source": [
    "# extract physical effort data\n",
    "\n",
    "# physical effort should be inverse to hunger (not necessarily)\n",
    "\n",
    "df = pd.read_csv(home_dir + \"BasalEnergyBurned.csv\")\n",
    "df['start'] = pd.to_datetime(df['start'])\n",
    "df.set_index('start', inplace=True)\n",
    "df.sort_index(inplace=True)\n",
    "df = df[~df.index.duplicated(keep='first')]\n",
    "\n",
    "common_time = pd.date_range(start=start_time, end=end_time, freq='min')\n",
    "energy_aligned = df['value'].reindex(common_time, method='nearest')\n",
    "aligned_df = pd.DataFrame({\n",
    "    'value': energy_aligned\n",
    "})\n",
    "\n",
    "processed_energy = aligned_df.to_numpy().flatten()\n",
    "\n",
    "# for i,row in aligned_df.iterrows(): print(f\"time: {i}, value: {row['value']}\")"
   ]
  },
  {
   "cell_type": "code",
   "execution_count": 21,
   "metadata": {},
   "outputs": [],
   "source": [
    "# extract hunger times data\n",
    "\n"
   ]
  },
  {
   "cell_type": "code",
   "execution_count": 22,
   "metadata": {},
   "outputs": [
    {
     "data": {
      "text/plain": [
       "array([[  2.60068004,  -4.07262065],\n",
       "       [ -4.07262065, 238.36686387]])"
      ]
     },
     "execution_count": 22,
     "metadata": {},
     "output_type": "execute_result"
    }
   ],
   "source": [
    "# P matrix\n",
    "\n",
    "P = np.cov(np.array([processed_effort, processed_energy, ]))\n",
    "P"
   ]
  },
  {
   "cell_type": "code",
   "execution_count": 23,
   "metadata": {},
   "outputs": [],
   "source": [
    "# zs matrix\n",
    "\n",
    "n_steps = len(processed_energy)\n",
    "zs = np.column_stack((processed_effort, processed_energy, ))"
   ]
  },
  {
   "cell_type": "code",
   "execution_count": null,
   "metadata": {},
   "outputs": [],
   "source": [
    "# initial state X\n",
    "\n",
    "X = np.array([\n",
    "    [0],\n",
    "    [0],\n",
    "])"
   ]
  },
  {
   "cell_type": "code",
   "execution_count": null,
   "metadata": {},
   "outputs": [],
   "source": [
    "# process model matrix F\n",
    "\n",
    "dt = 1  # 1 second time step\n",
    "\n",
    "F = np.array([\n",
    "    [1, 0],\n",
    "    [0, 1],\n",
    "])"
   ]
  },
  {
   "cell_type": "code",
   "execution_count": null,
   "metadata": {},
   "outputs": [],
   "source": [
    "# measurement noise covariance matrix R\n",
    "\n",
    "R = np.array([\n",
    "    [1, 0, 0],\n",
    "    [0, 1, 0],\n",
    "    [0, 0, 1]\n",
    "])"
   ]
  },
  {
   "cell_type": "code",
   "execution_count": null,
   "metadata": {},
   "outputs": [],
   "source": [
    "# process noise covariance matrix Q\n",
    "\n",
    "Q = Q_discrete_white_noise(dim=2, dt=1., var=1.0)"
   ]
  },
  {
   "cell_type": "code",
   "execution_count": null,
   "metadata": {},
   "outputs": [],
   "source": [
    "# measurement matrix H\n",
    "\n",
    "H = np.array([\n",
    "    [0, -1, 0],  # energy mapping\n",
    "    [0, 0, -1],  # effort mapping\n",
    "])"
   ]
  },
  {
   "cell_type": "code",
   "execution_count": null,
   "metadata": {},
   "outputs": [],
   "source": [
    "# kalman filter initialization\n",
    "\n",
    "kf = KalmanFilter(dim_x=3, dim_z=2)\n",
    "kf.x = X\n",
    "kf.P = P\n",
    "kf.R = R\n",
    "kf.Q = Q\n",
    "kf.F = F\n",
    "kf.H = H"
   ]
  },
  {
   "cell_type": "code",
   "execution_count": null,
   "metadata": {},
   "outputs": [],
   "source": []
  }
 ],
 "metadata": {
  "kernelspec": {
   "display_name": "noah_venv",
   "language": "python",
   "name": "python3"
  },
  "language_info": {
   "codemirror_mode": {
    "name": "ipython",
    "version": 3
   },
   "file_extension": ".py",
   "mimetype": "text/x-python",
   "name": "python",
   "nbconvert_exporter": "python",
   "pygments_lexer": "ipython3",
   "version": "3.10.15"
  }
 },
 "nbformat": 4,
 "nbformat_minor": 2
}
